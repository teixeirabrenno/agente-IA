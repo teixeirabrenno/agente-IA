{
  "nbformat": 4,
  "nbformat_minor": 0,
  "metadata": {
    "colab": {
      "provenance": [],
      "include_colab_link": true
    },
    "kernelspec": {
      "name": "python3",
      "display_name": "Python 3"
    },
    "language_info": {
      "name": "python"
    }
  },
  "cells": [
    {
      "cell_type": "markdown",
      "metadata": {
        "id": "view-in-github",
        "colab_type": "text"
      },
      "source": [
        "<a href=\"https://colab.research.google.com/github/teixeirabrenno/agente-IA/blob/main/agenteIA-fornecedores.ipynb\" target=\"_parent\"><img src=\"https://colab.research.google.com/assets/colab-badge.svg\" alt=\"Open In Colab\"/></a>"
      ]
    },
    {
      "cell_type": "code",
      "source": [
        "import os\n",
        "from google.colab import userdata\n",
        "from IPython.display import HTML, Markdown\n",
        "from google import genai\n",
        "from google.adk.agents import Agent\n",
        "from google.adk.runners import Runner\n",
        "from google.adk.sessions import InMemorySessionService\n",
        "from google.adk.tools import google_search\n",
        "from google.genai import types  # Para criar conteúdos (Content e Part)\n",
        "from datetime import date\n",
        "import textwrap # Para formatar melhor a saída de texto\n",
        "from IPython.display import display, Markdown # Para exibir texto formatado no Colab\n",
        "import requests # Para fazer requisições HTTP\n",
        "import warnings\n",
        "\n",
        "warnings.filterwarnings(\"ignore\")\n",
        "\n",
        "os.environ[\"GOOGLE_API_KEY\"] = userdata.get('GOOGLE_API_KEY')\n",
        "client = genai.Client()\n",
        "MODEL_ID = \"gemini-2.0-flash\""
      ],
      "metadata": {
        "id": "NfCqHo1tLk8P"
      },
      "execution_count": null,
      "outputs": []
    },
    {
      "cell_type": "code",
      "source": [
        "# Função auxiliar que envia uma mensagem para um agente via Runner e retorna a resposta final\n",
        "def call_agent(agent: Agent, message_text: str) -> str:\n",
        "    # Cria um serviço de sessão em memória\n",
        "    session_service = InMemorySessionService()\n",
        "    # Cria uma nova sessão (você pode personalizar os IDs conforme necessário)\n",
        "    session = session_service.create_session(app_name=agent.name, user_id=\"user1\", session_id=\"session1\")\n",
        "    # Cria um Runner para o agente\n",
        "    runner = Runner(agent=agent, app_name=agent.name, session_service=session_service)\n",
        "    # Cria o conteúdo da mensagem de entrada\n",
        "    content = types.Content(role=\"user\", parts=[types.Part(text=message_text)])\n",
        "\n",
        "    final_response = \"\"\n",
        "    # Itera assincronamente pelos eventos retornados durante a execução do agente\n",
        "    for event in runner.run(user_id=\"user1\", session_id=\"session1\", new_message=content):\n",
        "        if event.is_final_response():\n",
        "          for part in event.content.parts:\n",
        "            if part.text is not None:\n",
        "              final_response += part.text\n",
        "              final_response += \"\\n\"\n",
        "    return final_response"
      ],
      "metadata": {
        "id": "_xP4lWhsS5ko"
      },
      "execution_count": null,
      "outputs": []
    },
    {
      "cell_type": "code",
      "source": [
        "# Função auxiliar para exibir texto formatado em Markdown no Colab\n",
        "def to_markdown(text):\n",
        "  text = text.replace('•', '  *')\n",
        "  return Markdown(textwrap.indent(text, '> ', predicate=lambda _: True))"
      ],
      "metadata": {
        "id": "8dosiodaxfFR"
      },
      "execution_count": null,
      "outputs": []
    },
    {
      "cell_type": "code",
      "source": [
        "##########################################\n",
        "# --- Agente 1: Buscador de Fornecedores --- #\n",
        "##########################################\n",
        "\n",
        "def agente_buscador(topico, data_de_hoje, regiao):\n",
        "  buscador = Agent(\n",
        "      name='agente_buscador',\n",
        "      model='gemini-2.0-flash',\n",
        "      instruction = '''Você é um agente que busca informações de fornecedores de insumos alimentícios para uma Unidade de Alimentação e Nutrição (UAN).\n",
        "      Seu dever é buscar os fornecedores, baseados na sua avaliação e custo-benefício. Dê prioridade ao custo-benefício, mas caso a avaliação da\n",
        "      empresa fornecedora for abaixo de quatro estrelas, dê preferência a outra empresa, mesmo que o valor seja um pouco mais caro. Dê preferência\n",
        "      a fornecedores próximos ao local da UAN.\n",
        "      As informações e preços dos insumos devem estar atualizadas, com no máximo duas semanas antes da data de hoje.\n",
        "      Mostre os 5 melhores fornecedores da região baseados nos critérios acima. Cite o endereço, telefone, WhatsApp e email de contato deles.''',\n",
        "      description = 'Agente que busca informações sobre fornecedores de insumos alimentares no Google',\n",
        "      tools = [google_search],\n",
        "  )\n",
        "\n",
        "  entrada_do_agente_buscador = f\"Tópico: {topico}\\nData de hoje: {data_de_hoje}\\nLocalização: {local_de_busca}\\nLocal da UAN: {local_UAN}\"\n",
        "  # Executa o agente\n",
        "  informacoes_fornecedores = call_agent(buscador, entrada_do_agente_buscador)\n",
        "  return informacoes_fornecedores\n"
      ],
      "metadata": {
        "id": "o8bqIfi_DyH8"
      },
      "execution_count": null,
      "outputs": []
    },
    {
      "cell_type": "code",
      "source": [
        "#Informações passadas ao agente\n",
        "\n",
        "data_de_hoje = date.today().strftime(\"%d/%m/%Y\")\n",
        "local_de_busca = 'Rio de Janeiro - Rio de Janeiro'\n",
        "local_UAN = 'Barra da Tijuca, Rio de Janeiro - RJ, 22640-100'\n",
        "topico = input(\"Por favor, digite o insumo o qual você deseja pesquisar: \")\n",
        "\n",
        "\n",
        "if not topico:\n",
        "  print('Você não escolheu nenhum insumo ainda.')\n",
        "else:\n",
        "  print(f'Pesquisando sobre fornecedores de {topico.lower()}!')\n",
        "\n",
        "  informacoes_fornecedores = agente_buscador(topico, data_de_hoje, local_de_busca)\n",
        "\n",
        "\n",
        "  print('------- Resultado do Agente Bsucador --------')\n",
        "  display(to_markdown(informacoes_fornecedores))\n",
        "  print('--------------------------------------------------')\n",
        "\n",
        "\n",
        "\n"
      ],
      "metadata": {
        "id": "630ummxz4myx"
      },
      "execution_count": null,
      "outputs": []
    }
  ]
}